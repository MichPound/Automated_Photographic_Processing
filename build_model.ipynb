{
 "cells": [
  {
   "cell_type": "markdown",
   "metadata": {},
   "source": [
    "## Imports"
   ]
  },
  {
   "cell_type": "code",
   "execution_count": 14,
   "metadata": {},
   "outputs": [],
   "source": [
    "import tensorflow as tf\n",
    "from tensorflow import keras\n",
    "from keras.preprocessing.image import ImageDataGenerator\n",
    "from keras.layers import Dense, Conv2D, MaxPooling2D, Dropout, Flatten, Input"
   ]
  },
  {
   "cell_type": "markdown",
   "metadata": {},
   "source": [
    "## Read in Dataset"
   ]
  },
  {
   "cell_type": "code",
   "execution_count": 3,
   "metadata": {},
   "outputs": [
    {
     "name": "stdout",
     "output_type": "stream",
     "text": [
      "Found 24 files belonging to 2 classes.\n",
      "Using 22 files for training.\n"
     ]
    }
   ],
   "source": [
    "dimension = 1000\n",
    "batch_size = 4\n",
    "\n",
    "ds_train = tf.keras.preprocessing.image_dataset_from_directory(\n",
    "    'C:/Users/michw/Documents/fyp/final/dataset',\n",
    "    labels='inferred',\n",
    "    label_mode=\"int\",\n",
    "    class_names=['2_contour', '3_contour'],\n",
    "    color_mode='rgb',\n",
    "    batch_size=batch_size,\n",
    "    image_size=(dimension, dimension),\n",
    "    shuffle=True,\n",
    "    seed=123,\n",
    "    validation_split=0.1,\n",
    "    subset='training'\n",
    ")"
   ]
  },
  {
   "cell_type": "markdown",
   "metadata": {},
   "source": [
    "## Building Model"
   ]
  },
  {
   "cell_type": "code",
   "execution_count": 4,
   "metadata": {},
   "outputs": [],
   "source": [
    "model = keras.Sequential()\n",
    "\n",
    "model.add(Input(shape = (dimension, dimension, 3)))\n",
    "\n",
    "model.add(Conv2D(32, (3, 3), padding='same', activation='relu'))\n",
    "model.add(Conv2D(32, (3, 3), activation='relu'))\n",
    "model.add(MaxPooling2D(pool_size=(2, 2)))\n",
    "model.add(Dropout(0.25))\n",
    "\n",
    "model.add(Conv2D(64, (3, 3), padding='same', activation='relu'))\n",
    "model.add(Conv2D(64, (3, 3), activation='relu'))\n",
    "model.add(MaxPooling2D(pool_size=(2, 2)))\n",
    "model.add(Dropout(0.25))\n",
    "\n",
    "model.add(Conv2D(128, (3, 3), padding='same', activation='relu'))\n",
    "model.add(Conv2D(128, (3, 3), activation='relu'))\n",
    "model.add(MaxPooling2D(pool_size=(2, 2)))\n",
    "model.add(Dropout(0.25))\n",
    "\n",
    "model.add(Flatten())\n",
    "model.add(Dense(256, activation='relu'))\n",
    "model.add(Dropout(0.5))\n",
    "model.add(Dense(2, activation='softmax'))"
   ]
  },
  {
   "cell_type": "code",
   "execution_count": 5,
   "metadata": {},
   "outputs": [
    {
     "name": "stdout",
     "output_type": "stream",
     "text": [
      "Model: \"sequential\"\n",
      "_________________________________________________________________\n",
      " Layer (type)                Output Shape              Param #   \n",
      "=================================================================\n",
      " conv2d (Conv2D)             (None, 1000, 1000, 32)    896       \n",
      "                                                                 \n",
      " conv2d_1 (Conv2D)           (None, 998, 998, 32)      9248      \n",
      "                                                                 \n",
      " max_pooling2d (MaxPooling2D  (None, 499, 499, 32)     0         \n",
      " )                                                               \n",
      "                                                                 \n",
      " dropout (Dropout)           (None, 499, 499, 32)      0         \n",
      "                                                                 \n",
      " conv2d_2 (Conv2D)           (None, 499, 499, 64)      18496     \n",
      "                                                                 \n",
      " conv2d_3 (Conv2D)           (None, 497, 497, 64)      36928     \n",
      "                                                                 \n",
      " max_pooling2d_1 (MaxPooling  (None, 248, 248, 64)     0         \n",
      " 2D)                                                             \n",
      "                                                                 \n",
      " dropout_1 (Dropout)         (None, 248, 248, 64)      0         \n",
      "                                                                 \n",
      " conv2d_4 (Conv2D)           (None, 248, 248, 128)     73856     \n",
      "                                                                 \n",
      " conv2d_5 (Conv2D)           (None, 246, 246, 128)     147584    \n",
      "                                                                 \n",
      " max_pooling2d_2 (MaxPooling  (None, 123, 123, 128)    0         \n",
      " 2D)                                                             \n",
      "                                                                 \n",
      " dropout_2 (Dropout)         (None, 123, 123, 128)     0         \n",
      "                                                                 \n",
      " flatten (Flatten)           (None, 1936512)           0         \n",
      "                                                                 \n",
      " dense (Dense)               (None, 256)               495747328 \n",
      "                                                                 \n",
      " dropout_3 (Dropout)         (None, 256)               0         \n",
      "                                                                 \n",
      " dense_1 (Dense)             (None, 2)                 514       \n",
      "                                                                 \n",
      "=================================================================\n",
      "Total params: 496,034,850\n",
      "Trainable params: 496,034,850\n",
      "Non-trainable params: 0\n",
      "_________________________________________________________________\n"
     ]
    }
   ],
   "source": [
    "model.summary()"
   ]
  },
  {
   "cell_type": "markdown",
   "metadata": {},
   "source": [
    "## Compile and Fit"
   ]
  },
  {
   "cell_type": "code",
   "execution_count": 6,
   "metadata": {},
   "outputs": [
    {
     "name": "stdout",
     "output_type": "stream",
     "text": [
      "Epoch 1/5\n",
      "6/6 [==============================] - 34s 5s/step - loss: 1727.4449 - accuracy: 0.6818\n",
      "Epoch 2/5\n",
      "6/6 [==============================] - 33s 5s/step - loss: 178.7585 - accuracy: 0.8182\n",
      "Epoch 3/5\n",
      "6/6 [==============================] - 34s 6s/step - loss: 37.9850 - accuracy: 0.5909\n",
      "Epoch 4/5\n",
      "6/6 [==============================] - 33s 5s/step - loss: 1.3299 - accuracy: 0.9091\n",
      "Epoch 5/5\n",
      "6/6 [==============================] - 33s 5s/step - loss: 0.1514 - accuracy: 0.9545\n"
     ]
    }
   ],
   "source": [
    "model.compile(optimizer='adam',\n",
    "              loss=tf.keras.losses.SparseCategoricalCrossentropy(),\n",
    "              metrics=['accuracy'])\n",
    "\n",
    "history = model.fit(ds_train, epochs=5, verbose=1)"
   ]
  },
  {
   "cell_type": "code",
   "execution_count": null,
   "metadata": {},
   "outputs": [],
   "source": []
  },
  {
   "cell_type": "markdown",
   "metadata": {},
   "source": [
    "##  Saving Model"
   ]
  },
  {
   "cell_type": "code",
   "execution_count": 7,
   "metadata": {},
   "outputs": [],
   "source": [
    "# model.save(\"19-04-22-1127\", save_format='h5')"
   ]
  },
  {
   "cell_type": "code",
   "execution_count": null,
   "metadata": {},
   "outputs": [],
   "source": []
  },
  {
   "cell_type": "markdown",
   "metadata": {},
   "source": [
    "## Model Style Two"
   ]
  },
  {
   "cell_type": "code",
   "execution_count": 15,
   "metadata": {},
   "outputs": [],
   "source": [
    "dimension = 1000\n",
    "batch_size = 4\n",
    "\n",
    "train_datagen = ImageDataGenerator(horizontal_flip=True,\n",
    "                                   vertical_flip=True,\n",
    "                                   validation_split = .1)\n",
    "\n",
    "test_datagen = ImageDataGenerator(validation_split = .1)"
   ]
  },
  {
   "cell_type": "code",
   "execution_count": 16,
   "metadata": {},
   "outputs": [
    {
     "name": "stdout",
     "output_type": "stream",
     "text": [
      "Found 22 images belonging to 2 classes.\n"
     ]
    }
   ],
   "source": [
    "train_generator = train_datagen.flow_from_directory(\n",
    "    'C:/Users/michw/Documents/fyp/final/dataset',\n",
    "    target_size=(dimension, dimension),\n",
    "    batch_size=batch_size,\n",
    "    class_mode='sparse',\n",
    "    subset='training')"
   ]
  },
  {
   "cell_type": "code",
   "execution_count": 17,
   "metadata": {},
   "outputs": [
    {
     "name": "stdout",
     "output_type": "stream",
     "text": [
      "Found 2 images belonging to 2 classes.\n"
     ]
    }
   ],
   "source": [
    "validation_generator = test_datagen.flow_from_directory(\n",
    "    'C:/Users/michw/Documents/fyp/final/dataset',\n",
    "    target_size=(dimension, dimension),\n",
    "    batch_size=batch_size,\n",
    "    class_mode='sparse',\n",
    "    subset='validation')"
   ]
  },
  {
   "cell_type": "code",
   "execution_count": 18,
   "metadata": {},
   "outputs": [
    {
     "name": "stdout",
     "output_type": "stream",
     "text": [
      "Epoch 1/5\n",
      "6/6 [==============================] - 35s 6s/step - loss: 8.1181 - accuracy: 0.9091 - val_loss: 0.0000e+00 - val_accuracy: 1.0000\n",
      "Epoch 2/5\n",
      "6/6 [==============================] - 34s 6s/step - loss: 0.3313 - accuracy: 0.9545 - val_loss: 0.0000e+00 - val_accuracy: 1.0000\n",
      "Epoch 2: early stopping\n"
     ]
    }
   ],
   "source": [
    "from keras.callbacks import EarlyStopping\n",
    "earlyStopping = EarlyStopping(monitor='accuracy', verbose=1)\n",
    "\n",
    "model.compile(optimizer='adam',\n",
    "              loss=tf.keras.losses.SparseCategoricalCrossentropy(),\n",
    "              metrics=['accuracy'])\n",
    "\n",
    "history = model.fit(train_generator, epochs=5, validation_data=validation_generator, verbose=1, callbacks=[earlyStopping])"
   ]
  },
  {
   "cell_type": "markdown",
   "metadata": {},
   "source": [
    "## Saving Model Type Two"
   ]
  },
  {
   "cell_type": "code",
   "execution_count": 19,
   "metadata": {},
   "outputs": [],
   "source": [
    "# model.save(\"19-04-22-1139\", save_format='h5')"
   ]
  },
  {
   "cell_type": "markdown",
   "metadata": {},
   "source": [
    "## Testing Model"
   ]
  },
  {
   "cell_type": "code",
   "execution_count": 12,
   "metadata": {},
   "outputs": [],
   "source": [
    "# import cv2\n",
    "# import numpy as np\n",
    "\n",
    "# CATEGORIES = ['2_contour', '3_contour']\n",
    "\n",
    "# def prepare(filepath):\n",
    "\n",
    "#     img_size = 1000\n",
    "\n",
    "#     img = cv2.imread(filepath)\n",
    "#     original = img\n",
    "\n",
    "#     # Image pre-processing to imrpove clarity.\n",
    "#     kernel = np.ones((5, 5), np.uint8)\n",
    "#     img = cv2.dilate(img, kernel, iterations=1)\n",
    "#     img = cv2.GaussianBlur(img,(1,1),0)\n",
    "#     kernel = np.ones((5,5),np.float32)/25\n",
    "#     img = cv2.filter2D(img,-1,kernel)\n",
    "\n",
    "#     # Building colour range.\n",
    "#     hsv = cv2.cvtColor(img, cv2.COLOR_BGR2HSV)\n",
    "#     col_range = cv2.inRange(hsv, (36, 25, 25), (69, 255,255))\n",
    "\n",
    "#     # Finding all contours in processed image.\n",
    "#     contours, hierarchy = cv2.findContours(col_range, cv2.RETR_LIST, cv2.CHAIN_APPROX_SIMPLE)\n",
    "    \n",
    "#     # Initialise 2 largest contours.\n",
    "#     select1 = (0, 0, 0, 0)\n",
    "\n",
    "#     # Finding the largest contour.\n",
    "#     for contour in contours:\n",
    "#         x, y, w, h = cv2.boundingRect(contour)\n",
    "#         contour_area = w * h\n",
    "#         select1_area = select1[2] * select1[3]\n",
    "\n",
    "#         if contour_area > select1_area:\n",
    "#             select1 = x, y, w, h\n",
    "\n",
    "#     x, y, w, h = select1\n",
    "\n",
    "#     adjustment = 7\n",
    "\n",
    "#     img_array = original[y+adjustment:y + (h-adjustment), x+adjustment:x + (w-adjustment)]\n",
    "\n",
    "#     new_array = cv2.resize(img_array, (img_size, img_size))\n",
    "\n",
    "#     return new_array.reshape(1, img_size, img_size, 3)\n",
    "\n",
    "# input = [ \"C:/Users/michw/Documents/fyp/original_ml/dataset/box_t2\",\n",
    "#          \"C:/Users/michw/Documents/fyp/original_ml/dataset/box_t3\",\n",
    "#          \"C:/Users/michw/Documents/fyp/main/dataset_black/1_contour\",\n",
    "#          \"C:/Users/michw/Documents/fyp/main/dataset_black/2_contour\"]\n",
    "\n",
    "# import os\n",
    "\n",
    "# for i in input:\n",
    "#     print(i)\n",
    "#     for file in sorted(os.listdir(str(i))):\n",
    "\n",
    "#         prediction = model.predict([prepare(i + \"/\" + file)])\n",
    "#         # print(prediction)\n",
    "#         classes = np.argmax(prediction, axis = 1)\n",
    "#         # print(classes[0])\n",
    "#         print(CATEGORIES[classes[0]])"
   ]
  },
  {
   "cell_type": "code",
   "execution_count": 21,
   "metadata": {},
   "outputs": [],
   "source": [
    "# import cv2\n",
    "# import numpy as np\n",
    "\n",
    "# CATEGORIES = ['2_contour', '3_contour']\n",
    "# # CATEGORIES = ['one', 'two', 'three']\n",
    "\n",
    "# def prepare(filepath):\n",
    "#     IMG_SIZE = 1000\n",
    "#     img_array = cv2.imread(filepath)\n",
    "\n",
    "#     new_array = cv2.resize(img_array, (IMG_SIZE, IMG_SIZE))\n",
    "\n",
    "#     return new_array.reshape(1, IMG_SIZE, IMG_SIZE, 3)\n",
    "\n",
    "# prediction = model.predict([prepare('C:/Users/michw/Documents/fyp/original_ml/00362.jpg')])\n",
    "# classes = np.argmax(prediction, axis = 1)\n",
    "# print(CATEGORIES[classes[0]])\n",
    "# print(prediction)\n",
    "\n",
    "# prediction = model.predict([prepare('C:/Users/michw/Documents/fyp/original_ml/00262.jpg')])\n",
    "# classes = np.argmax(prediction, axis = 1)\n",
    "# print(CATEGORIES[classes[0]])\n",
    "# print(prediction)\n",
    "\n",
    "# prediction = model.predict([prepare('C:/Users/michw/Documents/fyp/original_ml/00204.jpg')])\n",
    "# classes = np.argmax(prediction, axis = 1)\n",
    "# print(CATEGORIES[classes[0]])\n",
    "# print(prediction)"
   ]
  },
  {
   "cell_type": "code",
   "execution_count": null,
   "metadata": {},
   "outputs": [],
   "source": []
  }
 ],
 "metadata": {
  "interpreter": {
   "hash": "a0c9d33f76e273c5e6727d8f2f76079d5f9e44f174ac8601a29fff2538a6dae8"
  },
  "kernelspec": {
   "display_name": "Python 3.10.4 ('fyp')",
   "language": "python",
   "name": "python3"
  },
  "language_info": {
   "codemirror_mode": {
    "name": "ipython",
    "version": 3
   },
   "file_extension": ".py",
   "mimetype": "text/x-python",
   "name": "python",
   "nbconvert_exporter": "python",
   "pygments_lexer": "ipython3",
   "version": "3.10.4"
  },
  "orig_nbformat": 4
 },
 "nbformat": 4,
 "nbformat_minor": 2
}
